{
  "nbformat": 4,
  "nbformat_minor": 0,
  "metadata": {
    "colab": {
      "name": "Tarea 6_Ejercicios del libro.ipynb",
      "provenance": [],
      "collapsed_sections": [],
      "authorship_tag": "ABX9TyN++Bi9sOERtofmyhj4IhVo",
      "include_colab_link": true
    },
    "kernelspec": {
      "name": "python3",
      "display_name": "Python 3"
    },
    "language_info": {
      "name": "python"
    }
  },
  "cells": [
    {
      "cell_type": "markdown",
      "metadata": {
        "id": "view-in-github",
        "colab_type": "text"
      },
      "source": [
        "<a href=\"https://colab.research.google.com/github/Karla-Valentin/Tarea-6-_Ejercicios-del-libro/blob/main/Tarea_6_Ejercicios_del_libro.ipynb\" target=\"_parent\"><img src=\"https://colab.research.google.com/assets/colab-badge.svg\" alt=\"Open In Colab\"/></a>"
      ]
    },
    {
      "cell_type": "code",
      "metadata": {
        "colab": {
          "base_uri": "https://localhost:8080/"
        },
        "id": "zksWF_9Nhv48",
        "outputId": "69e1ff95-5e36-46d7-cc3e-8c149d5b0150"
      },
      "source": [
        "# Problema 2.1\n",
        "N = float(input(\"Escribe el número de sonidos que emite un grillo:\"))\n",
        "T = 0\n",
        "if N > 0: \n",
        "    T = N/4+40\n",
        "    print(f\"Su Temperatura es de {T} grados\")  \n",
        "    print(\"--Fin del programa--\")      "
      ],
      "execution_count": 53,
      "outputs": [
        {
          "output_type": "stream",
          "name": "stdout",
          "text": [
            "Escribe el número de sonidos que emite un grillo:15\n",
            "Su Temperatura es de 43.75 grados\n",
            "--Fin del programa--\n"
          ]
        }
      ]
    },
    {
      "cell_type": "code",
      "metadata": {
        "colab": {
          "base_uri": "https://localhost:8080/"
        },
        "id": "OgzBdeuoLGgc",
        "outputId": "c9210b8f-ad59-464b-a508-447f1e4070ca"
      },
      "source": [
        "# Problema 2.2\n",
        "\n",
        "P = int(input(\"Ingresa un valor para P:\"))\n",
        "Q = int(input(\"Ingresa un valor para Q:\"))\n",
        "EXP = P**3+Q**4-2*P**2\n",
        "if EXP < 680:\n",
        "    print(f\"Los valores {P} y {Q} satisfacen la expresión dada\" )\n",
        "    print(\"--Fin del programa--\")"
      ],
      "execution_count": 54,
      "outputs": [
        {
          "output_type": "stream",
          "name": "stdout",
          "text": [
            "Ingresa un valor para P:2\n",
            "Ingresa un valor para Q:4\n",
            "Los valores 2 y 4 satisfacen la expresión dada\n",
            "--Fin del programa--\n"
          ]
        }
      ]
    },
    {
      "cell_type": "code",
      "metadata": {
        "colab": {
          "base_uri": "https://localhost:8080/"
        },
        "id": "FXl9kTP2RPVf",
        "outputId": "3343154b-419f-4541-f60f-8512314f5e36"
      },
      "source": [
        "# Problema 2.3\n",
        "\n",
        "A = float(input(\"Ingresa un primer valor:\"))\n",
        "B = float(input(\"Ingresa un segundo valor:\"))\n",
        "C = float(input(\"Ingresa un tercer valor:\"))\n",
        "DIS = B**2-4*A*C\n",
        "if DIS >= 0:\n",
        "    X1 = ((-B)+DIS**0.5)/(2*A)\n",
        "    X2 = ((-B)-DIS**0.5)/(2*A)\n",
        "    print(\"Las raíces reales son:\", X1,X2)\n",
        "print(\"--Fin del programa--\")    \n",
        "    "
      ],
      "execution_count": null,
      "outputs": [
        {
          "output_type": "stream",
          "name": "stdout",
          "text": [
            "Ingresa un primer valor:2.5\n",
            "Ingresa un segundo valor:-6\n",
            "Ingresa un tercer valor:-4\n",
            "Las raíces reales son: 2.9435595774162695 -0.5435595774162696\n",
            "--Fin del programa--\n"
          ]
        }
      ]
    },
    {
      "cell_type": "code",
      "metadata": {
        "colab": {
          "base_uri": "https://localhost:8080/"
        },
        "id": "aVGugjCjX7mf",
        "outputId": "f09da309-07e2-4bd2-ee6b-abdcc02bd094"
      },
      "source": [
        "# Problema 2.4\n",
        "MAT = int(input(\"Escribe tu número de matricula:\"))\n",
        "CAL1 = float(input(\"Escribe tu  primera calificación:\"))\n",
        "CAL2 = float(input(\"Escribe tu segunda calificación:\"))\n",
        "CAL3 = float(input(\"Escribe tu tercer calificación:\"))\n",
        "CAL4 = float(input(\"Escribe tu cuarta calificación:\"))\n",
        "CAL5 = float(input(\"Escribe tu quinta calificación:\"))\n",
        "PRO = (CAL1+CAL2+CAL3+CAL4+CAL5)/5\n",
        "if PRO >=6:\n",
        "    print(f\"Tu matricula es:{MAT} y tu promedio es:{PRO}, entonces estas APROBADO\")\n",
        "else:\n",
        "     print(f\"Tu matricula es: {MAT} y tu promedio es: {PRO}, por lo tanto estas NO APROBADO\")\n",
        "    \n",
        "     print(\"--Fin del programa--\")"
      ],
      "execution_count": null,
      "outputs": [
        {
          "output_type": "stream",
          "name": "stdout",
          "text": [
            "Escribe tu número de matricula:18250\n",
            "Escribe tu  primera calificación:5\n",
            "Escribe tu segunda calificación:4.80\n",
            "Escribe tu tercer calificación:7\n",
            "Escribe tu cuarta calificación:6.30\n",
            "Escribe tu quinta calificación:5.90\n",
            "Tu matricula es: 18250 y tu promedio es: 5.8, por lo tanto estas NO APROBADO\n",
            "--Fin del programa--\n"
          ]
        }
      ]
    },
    {
      "cell_type": "code",
      "metadata": {
        "colab": {
          "base_uri": "https://localhost:8080/"
        },
        "id": "w7s7u5PBdrGI",
        "outputId": "6ede16f8-4b4c-4120-b75a-21f58aa72bec"
      },
      "source": [
        "#Problema 2.5 \n",
        "\n",
        "NUM = int(input(\"Escribe un número entero:\"))\n",
        "if NUM >0:\n",
        "    print(\"El número dado es positivo\")\n",
        "elif NUM == 0:\n",
        "    print(\"El número dado es nulo\")    \n",
        "else: \n",
        "    print(\"El número dado es negativo\")   \n",
        "    \n",
        "print(\"--Fin del programa--\") "
      ],
      "execution_count": 57,
      "outputs": [
        {
          "output_type": "stream",
          "name": "stdout",
          "text": [
            "Escribe un número entero:0\n",
            "El número dado es nulo\n",
            "--Fin del programa--\n"
          ]
        }
      ]
    },
    {
      "cell_type": "code",
      "metadata": {
        "colab": {
          "base_uri": "https://localhost:8080/"
        },
        "id": "h0WYPBwsiGGB",
        "outputId": "2fe0e716-fb10-4ae8-a040-11b51141f719"
      },
      "source": [
        "#Problema 2.6\n",
        "\n",
        "A = int(input(\"Escribe un número entero:\"))\n",
        "if A == 0: \n",
        "    print(\"El número es nulo\")\n",
        "elif (-1)**A > 0:\n",
        "    print(\"El número es par\") \n",
        "else:\n",
        "    print(\"El número es impar\")  \n",
        "print(\"--Fin del programa--\")         \n"
      ],
      "execution_count": 60,
      "outputs": [
        {
          "output_type": "stream",
          "name": "stdout",
          "text": [
            "Escribe un número entero:2\n",
            "El número es par\n",
            "--Fin del programa--\n"
          ]
        }
      ]
    },
    {
      "cell_type": "code",
      "metadata": {
        "colab": {
          "base_uri": "https://localhost:8080/"
        },
        "id": "NJjYbz_9ljN7",
        "outputId": "f40256ad-4df9-4988-cb41-25920fd98239"
      },
      "source": [
        "#Problema 2.7\n",
        "print(\"----ESCRIBE TRES NÚMEROS ENTEROS DIFERENTES----\")\n",
        "A = int(input(\"Escribe el primer número:\"))\n",
        "B = int(input(\"Escribe el segundo número:\"))\n",
        "C = int(input(\"Escribe el tercer número:\"))\n",
        "if A<B:\n",
        "    if B<C:\n",
        "        print(\"Los números están en orden creciente\")\n",
        "    else:\n",
        "           print(\"Los números no están en orden creciente\") \n",
        "else: \n",
        "    print(\"Los números no están en orden creciente\")\n",
        "print(\"--Fin del programa--\")    "
      ],
      "execution_count": null,
      "outputs": [
        {
          "output_type": "stream",
          "name": "stdout",
          "text": [
            "----ESCRIBE TRES NÚMEROS ENTEROS DIFERENTES----\n",
            "Escribe el primer número:6\n",
            "Escribe el segundo número:9\n",
            "Escribe el tercer número:3\n",
            "Los números no están en orden creciente\n",
            "--Fin del programa--\n"
          ]
        }
      ]
    },
    {
      "cell_type": "code",
      "metadata": {
        "colab": {
          "base_uri": "https://localhost:8080/"
        },
        "id": "rJhEPiRyGoU5",
        "outputId": "5bb76d31-2129-41dd-d27f-e864ef06bad3"
      },
      "source": [
        "#Problema 2.8\n",
        "\n",
        "COMPRA = float(input(\"Escribe el monto de tu compra:\"))\n",
        "if COMPRA<500:\n",
        "    PAGAR==COMPRA\n",
        "elif COMPRA<=1000:\n",
        "    PAGAR==COMPRA-(COMPRA*0.05)\n",
        "elif COMPRA<=700:\n",
        "    PAGAR==COMPRA-(COMPRA*0.11)\n",
        "elif COMPRA<=15000:\n",
        "    PAGAR=COMPRA-(COMPRA*0.18)\n",
        "else: \n",
        "    PAGAR==COMPRA-(COMPRA*0.25)  \n",
        "print(f\"El total a pagar contando con el descuento son {PAGAR} pesos\")      \n",
        "print(\"--Fin del programa--\")\n"
      ],
      "execution_count": 64,
      "outputs": [
        {
          "output_type": "stream",
          "name": "stdout",
          "text": [
            "Escribe el monto de tu compra:12350.00\n",
            "El total a pagar contando con el descuento son 10127.0 pesos\n",
            "--Fin del programa--\n"
          ]
        }
      ]
    },
    {
      "cell_type": "code",
      "metadata": {
        "colab": {
          "base_uri": "https://localhost:8080/"
        },
        "id": "_o7txCymoqC_",
        "outputId": "6f2c1563-911d-4a10-948f-3223a11821a8"
      },
      "source": [
        "# Problema 2.9\n",
        "\n",
        "PREBAS = float(input(\"Ingresa el precio del producto que compraste:\"))\n",
        "PRETOT=0.0\n",
        "IMP=0.0\n",
        "if PREBAS >= 500:\n",
        "    IMP=20*0.30+(PREBAS-40)*0.50\n",
        "elif PREBAS >= 40: \n",
        "    IMP=20*0.30+(PREBAS-40)*0.40\n",
        "elif PREBAS >= 20:\n",
        "    IMP=20*0.30+(PREBAS-20)*0.30\n",
        "else:\n",
        "    IMP=0\n",
        "PETROT=PREBAS+IMP\n",
        "print(f\"El precio original de tu producto es de {PREBAS} pesos, pero con el impuesto serian {PETROT} pesos\")  \n",
        "print(\"--Fin del programa--\")"
      ],
      "execution_count": null,
      "outputs": [
        {
          "output_type": "stream",
          "name": "stdout",
          "text": [
            "Ingresa el precio del producto que compraste:527.50\n",
            "El precio original de tu producto es de 527.5 pesos, pero con el impuesto serian 777.25 pesos\n",
            "--Fin del programa--\n"
          ]
        }
      ]
    },
    {
      "cell_type": "code",
      "metadata": {
        "colab": {
          "base_uri": "https://localhost:8080/"
        },
        "id": "AMIG--8xPq59",
        "outputId": "a1683a85-c174-4e90-a8b6-0ae8906e1a3e"
      },
      "source": [
        "#Problema 2.10\n",
        "print(\"----Ingresa tres número enteros, pueden ser los mismos---\")\n",
        "A= int(input(\"Ingresa un número entero:\"))\n",
        "B= int(input(\"Ingresa otro número entero:\"))\n",
        "C= int(input(\"Vuelve a ingresar otro número entero:\"))\n",
        "\n",
        "if A>B:\n",
        "    if A>C:\n",
        "        print(f\"{A} es el mayor\")\n",
        "    else: \n",
        "        if A==C:\n",
        "            print(f\"{A} y {C} son los números mayores\")\n",
        "        else: \n",
        "            print(f\"{C} es el número mayor\")  \n",
        "else: \n",
        "    if A==B:\n",
        "        if A>C:\n",
        "            print(f\"{A} y {B} son los números mayores\")              \n",
        "        else:\n",
        "            if A==C:\n",
        "                print(f\"{A},{B} y {C} son números iguales\")\n",
        "            else:\n",
        "                print(f\"{C} es el número mayor\")   \n",
        "    else:    \n",
        "        if B>C:\n",
        "            print(f\"{B} es el número mayor\")  \n",
        "        else: \n",
        "            if B==C:\n",
        "                print(f\"{B} y {C} son los números mayores\")\n",
        "            else: \n",
        "                print(f\"{C} es el número mayor\")   \n",
        "print(\"--Fin del programa--\")                 "
      ],
      "execution_count": null,
      "outputs": [
        {
          "output_type": "stream",
          "name": "stdout",
          "text": [
            "----Ingresa tres número enteros, pueden ser los mismos---\n",
            "Ingresa un número entero:65\n",
            "Ingresa otro número entero:98847\n",
            "Vuelve a ingresar otro número entero:79847\n",
            "98847 es el número mayor\n",
            "--Fin del programa--\n"
          ]
        }
      ]
    },
    {
      "cell_type": "code",
      "metadata": {
        "colab": {
          "base_uri": "https://localhost:8080/"
        },
        "id": "q9ixIIv7n-A3",
        "outputId": "98af1646-35d2-4855-afef-5ff54286511a"
      },
      "source": [
        "#Problema 2.11\n",
        "\n",
        "CLAVE =int(input(\"Ingresa la clave de la zona a la que realizaste tu llamada:\"))\n",
        "NUMIN= int(input(\"¿Cúantos minutos te tardaste en la llamada?:\"))\n",
        "COST = 0.0\n",
        "if CLAVE==12: \n",
        "    COST=NUMIN*2\n",
        "elif CLAVE==15:\n",
        "    COST=NUMIN*2.2\n",
        "elif CLAVE==18:\n",
        "    COST=NUMIN*4.5\n",
        "elif CLAVE==19:\n",
        "    COST=NUMIN*3.5\n",
        "elif CLAVE==23 and 25:\n",
        "    COST=NUMIN*6\n",
        "elif CLAVE==29:\n",
        "    COST=NUMIN*5\n",
        "print(f\"El costo total de tu llamada son: {COST} pesos\" )    \n",
        "print(\"--Fin del programa--\")                    \n"
      ],
      "execution_count": 5,
      "outputs": [
        {
          "output_type": "stream",
          "name": "stdout",
          "text": [
            "Ingresa la clave de la zona a la que realizaste tu llamada:29\n",
            "¿Cúantos minutos te tardaste en la llamada?:8\n",
            "El costo total de tu llamada son: 40 pesos\n",
            "--Fin del programa--\n"
          ]
        }
      ]
    },
    {
      "cell_type": "code",
      "metadata": {
        "colab": {
          "base_uri": "https://localhost:8080/"
        },
        "id": "YqiaZpY2sqOe",
        "outputId": "0cfe4f89-57f8-4e2b-dece-3be20614ae13"
      },
      "source": [
        "#Problema 2.12\n",
        "\n",
        "SUE = int(input(\"Escribe tu sueldo:\"))\n",
        "CATE = int(input(\"Escribe la categoría de trabajador a la que perteneces:\"))\n",
        "HE = int(input(\"Escribe las horas extras que trabajaste:\"))\n",
        "\n",
        "if CATE==1:\n",
        "    PHE=30\n",
        "elif CATE==2:\n",
        "     PHE=38\n",
        "elif CATE==3:\n",
        "     PHE=50\n",
        "elif CATE==4:\n",
        "     PHE=70\n",
        "else:\n",
        "    PHE=0\n",
        "if HE>30:\n",
        "    NSUE==+30*PHE\n",
        "else:\n",
        "    NSUE=SUE+HE*PHE\n",
        "   \n",
        "print(f\"Tu salario total es de:{NSUE} pesos\")    \n",
        "print(\"--Fin del programa--\")\n",
        "\n",
        "\n"
      ],
      "execution_count": 38,
      "outputs": [
        {
          "output_type": "stream",
          "name": "stdout",
          "text": [
            "Escribe tu sueldo:3200\n",
            "Escribe la categoría de trabajador a la que perteneces:3\n",
            "Escribe las horas extras que trabajaste:8\n",
            "Tu salario total es de:3600 pesos\n",
            "--Fin del programa--\n"
          ]
        }
      ]
    },
    {
      "cell_type": "code",
      "metadata": {
        "colab": {
          "base_uri": "https://localhost:8080/"
        },
        "id": "luwVF-za3bSC",
        "outputId": "4ee5ddc4-f1cd-4185-f0e1-df96f07d40f9"
      },
      "source": [
        "#Problema 2.13\n",
        "\n",
        "MAT = int(input(\"Escribe el número de tu matricula:\"))\n",
        "CARR = str(input(\"Escribe el nombre de la carrera en la que estas:\"))\n",
        "SEM = int(input(\"Ingresa el número de semestre que tienes aprobado:\"))\n",
        "PROM = float(input(\"Escribe tu promedio:\"))\n",
        "\n",
        "if CARR=='Economía':\n",
        "    if SEM>=6 and PROM >=8.8:\n",
        "        print(f\"Tú matricula es: {MAT}, tu carrera es: {CARR}, por lo que estás aceptado en la facultad\")\n",
        "if CARR=='Computación':\n",
        "    if SEM>6 and PROM>8.5:\n",
        "        print(f\"Tú matricula es: {MAT}, tu carrera es: {CARR}, por lo que estás aceptado en la facultad\")\n",
        "if CARR=='Contabilidad' and 'Administración':\n",
        "    if SEM>5 and PROM>8.5:\n",
        "        print(f\"Tú matricula es: {MAT}, tu carrera es: {CARR}, por lo que estás aceptado en la facultad\")\n",
        "print(\"--Fin del programa--\")        "
      ],
      "execution_count": 51,
      "outputs": [
        {
          "output_type": "stream",
          "name": "stdout",
          "text": [
            "Escribe el número de tu matricula:25224\n",
            "Escribe el nombre de la carrera en la que estas:Computación\n",
            "Ingresa el número de semestre que tienes aprobado:8\n",
            "Escribe tu promedio:8.7\n",
            "Tú matricula es: 25224, tu carrera es: Computación, por lo que estás aceptado en la facultad\n",
            "--Fin del programa--\n"
          ]
        }
      ]
    }
  ]
}